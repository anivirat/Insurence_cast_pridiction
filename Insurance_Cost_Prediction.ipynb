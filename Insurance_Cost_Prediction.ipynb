{
  "nbformat": 4,
  "nbformat_minor": 0,
  "metadata": {
    "colab": {
      "private_outputs": true,
      "provenance": []
    },
    "kernelspec": {
      "name": "python3",
      "display_name": "Python 3"
    },
    "language_info": {
      "name": "python"
    }
  },
  "cells": [
    {
      "cell_type": "code",
      "source": [
        "\n",
        "#importing all libs"
      ],
      "metadata": {
        "id": "V0Xj8CZNG263"
      },
      "execution_count": null,
      "outputs": []
    },
    {
      "cell_type": "code",
      "execution_count": null,
      "metadata": {
        "id": "_jJMjOMIO8Xz"
      },
      "outputs": [],
      "source": [
        "import pandas as pd\n",
        "import numpy as np\n",
        "from sklearn.model_selection import train_test_split\n",
        "from sklearn.preprocessing import OneHotEncoder, StandardScaler\n",
        "\n",
        "from sklearn.linear_model import LinearRegression\n",
        "from sklearn.tree import DecisionTreeRegressor\n",
        "from xgboost import XGBRegressor\n",
        "\n",
        "from sklearn.metrics import mean_absolute_error, mean_squared_error, r2_score\n",
        "\n"
      ]
    },
    {
      "cell_type": "code",
      "source": [
        "from google.colab import files\n",
        "files.upload(\"\")"
      ],
      "metadata": {
        "id": "RQeOQHwiPKAO"
      },
      "execution_count": null,
      "outputs": []
    },
    {
      "cell_type": "code",
      "source": [
        "# Load dataset\n",
        "df = pd.read_csv('insurance.csv')"
      ],
      "metadata": {
        "id": "uZ_SZDuCPJYk"
      },
      "execution_count": null,
      "outputs": []
    },
    {
      "cell_type": "code",
      "source": [
        "X = df.drop('charges', axis=1)\n",
        "y = df['charges']"
      ],
      "metadata": {
        "id": "eLwku8b-Pe4Y"
      },
      "execution_count": null,
      "outputs": []
    },
    {
      "cell_type": "code",
      "source": [
        "\n",
        "categorical_features = ['sex', 'smoker', 'region']\n",
        "numerical_features = ['age', 'bmi', 'children']\n"
      ],
      "metadata": {
        "id": "o-Omxlx2Pjym"
      },
      "execution_count": null,
      "outputs": []
    },
    {
      "cell_type": "code",
      "source": [
        "encoder = OneHotEncoder(drop='first')\n",
        "X_cat = encoder.fit_transform(X[categorical_features])"
      ],
      "metadata": {
        "id": "x22w3VMWPm3j"
      },
      "execution_count": null,
      "outputs": []
    },
    {
      "cell_type": "code",
      "source": [
        "# Scale numerical features\n",
        "scaler = StandardScaler()\n",
        "X_num = scaler.fit_transform(X[numerical_features])\n",
        "\n",
        "# Convert sparse matrix to dense array\n",
        "X_cat_dense = X_cat.toarray()\n",
        "\n",
        "# Combine processed features\n",
        "X_processed = np.hstack([X_num, X_cat_dense])\n",
        "\n",
        "X_train, X_test, y_train, y_test = train_test_split(\n",
        "    X_processed, y, test_size=0.2, random_state=42)"
      ],
      "metadata": {
        "id": "xEdLs_YSQNha"
      },
      "execution_count": null,
      "outputs": []
    },
    {
      "cell_type": "code",
      "source": [
        "# Create the Linear Regression model\n",
        "lr_model = LinearRegression()\n",
        "\n",
        "# Train the model\n",
        "lr_model.fit(X_train, y_train)\n",
        "\n",
        "lr_predictions = lr_model.predict(X_test)\n",
        "\n",
        "# Evaluate the model\n",
        "lr_mae = mean_absolute_error(y_test, lr_predictions)\n",
        "lr_rmse = np.sqrt(mean_squared_error(y_test, lr_predictions))\n",
        "lr_r2 = r2_score(y_test, lr_predictions)\n",
        "\n",
        "print(\"Linear Regression Performance:\")\n",
        "print(f\"MAE: {lr_mae:.2f}\")\n",
        "print(f\"RMSE: {lr_rmse:.2f}\")\n",
        "print(f\"R2 Score: {lr_r2:.2f}\")\n"
      ],
      "metadata": {
        "id": "5wRUTptBQZGz"
      },
      "execution_count": null,
      "outputs": []
    },
    {
      "cell_type": "code",
      "source": [
        "# Create the Decision Tree Regressor model\n",
        "dt_model = DecisionTreeRegressor(random_state=42)\n",
        "\n",
        "dt_model.fit(X_train, y_train)\n",
        "dt_predictions = dt_model.predict(X_test)\n",
        "\n",
        "# Evaluate the model\n",
        "dt_mae = mean_absolute_error(y_test, dt_predictions)\n",
        "dt_rmse = np.sqrt(mean_squared_error(y_test, dt_predictions))\n",
        "dt_r2 = r2_score(y_test, dt_predictions)\n",
        "\n",
        "print(\"\\nDecision Tree Regressor Performance:\")\n",
        "print(f\"MAE: {dt_mae:.2f}\")\n",
        "print(f\"RMSE: {dt_rmse:.2f}\")\n",
        "print(f\"R2 Score: {dt_r2:.2f}\")\n"
      ],
      "metadata": {
        "id": "npoORWL6QZjb"
      },
      "execution_count": null,
      "outputs": []
    },
    {
      "cell_type": "code",
      "source": [
        "# Create the XGBoost Regressor model\n",
        "xgb_model = XGBRegressor(random_state=42, verbosity=0)\n",
        "\n",
        "xgb_model.fit(X_train, y_train)\n",
        "\n",
        "# Predict on test data\n",
        "xgb_predictions = xgb_model.predict(X_test)\n",
        "\n",
        "# Evaluate the model\n",
        "xgb_mae = mean_absolute_error(y_test, xgb_predictions)\n",
        "xgb_rmse = np.sqrt(mean_squared_error(y_test, xgb_predictions))\n",
        "xgb_r2 = r2_score(y_test, xgb_predictions)\n",
        "\n",
        "print(\"\\nXGBoost Regressor Performance:\")\n",
        "print(f\"MAE: {xgb_mae:.2f}\")\n",
        "print(f\"RMSE: {xgb_rmse:.2f}\")\n",
        "print(f\"R2 Score: {xgb_r2:.2f}\")\n"
      ],
      "metadata": {
        "id": "5SIv5bajQgOX"
      },
      "execution_count": null,
      "outputs": []
    },
    {
      "cell_type": "code",
      "source": [
        "from sklearn.ensemble import RandomForestRegressor\n",
        "from sklearn.metrics import mean_absolute_error, mean_squared_error, r2_score\n",
        "import numpy as np\n",
        "\n",
        "rf_model = RandomForestRegressor(random_state=42)\n",
        "\n",
        "rf_model.fit(X_train, y_train)\n",
        "\n",
        "rf_predictions = rf_model.predict(X_test)\n",
        "\n",
        "#Evaluate the model\n",
        "rf_mae = mean_absolute_error(y_test, rf_predictions)\n",
        "rf_rmse = np.sqrt(mean_squared_error(y_test, rf_predictions))\n",
        "rf_r2 = r2_score(y_test, rf_predictions)\n",
        "\n",
        "print(\"Random Forest Regressor Performance:\")\n",
        "print(f\"MAE: {rf_mae:.2f}\")\n",
        "print(f\"RMSE: {rf_rmse:.2f}\")\n",
        "print(f\"R2 Score: {rf_r2:.2f}\")\n"
      ],
      "metadata": {
        "id": "CExsLD3Pfs1B"
      },
      "execution_count": null,
      "outputs": []
    },
    {
      "cell_type": "code",
      "source": [
        "print(\"\\nSummary of Model Performances:\")\n",
        "print(f\"Linear Regression R2: {lr_r2:.2f}\")\n",
        "print(f\"Decision Tree R2: {dt_r2:.2f}\")\n",
        "print(f\"XGBoost R2: {xgb_r2:.2f}\")\n",
        "print(f\"randomforest regression R2:{rf_r2:.2f}\")\n",
        "\n",
        "best_model = \"Linear Regression\"\n",
        "best_score = lr_r2\n",
        "\n",
        "if dt_r2 > best_score:\n",
        "    best_model = \"Decision Tree Regressor\"\n",
        "    best_score = dt_r2\n",
        "if xgb_r2 > best_score:\n",
        "    best_model = \"XGBoost Regressor\"\n",
        "    best_score = xgb_r2\n",
        "if rf_r2 > best_score:\n",
        "    best_model = \"Randomforest Regressor\"\n",
        "    best_score = rf_r2\n",
        "\n",
        "\n",
        "print(f\"\\nBest model based on R2 score: {best_model} with R2 = {best_score:.2f}\")\n"
      ],
      "metadata": {
        "id": "hcHBigeTQglD"
      },
      "execution_count": null,
      "outputs": []
    },
    {
      "cell_type": "code",
      "source": [],
      "metadata": {
        "id": "nd4S09q2heaE"
      },
      "execution_count": null,
      "outputs": []
    }
  ]
}